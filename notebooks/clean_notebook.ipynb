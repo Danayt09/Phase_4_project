{
 "cells": [
  {
   "cell_type": "code",
   "execution_count": 34,
   "id": "5b4f97e7-799e-41d8-aa17-b689f6384fed",
   "metadata": {},
   "outputs": [
    {
     "name": "stdout",
     "output_type": "stream",
     "text": [
      "The autoreload extension is already loaded. To reload it, use:\n",
      "  %reload_ext autoreload\n"
     ]
    },
    {
     "name": "stderr",
     "output_type": "stream",
     "text": [
      "[nltk_data] Downloading package stopwords to\n",
      "[nltk_data]     /Users/danayt/nltk_data...\n",
      "[nltk_data]   Package stopwords is already up-to-date!\n",
      "[nltk_data] Downloading package wordnet to /Users/danayt/nltk_data...\n",
      "[nltk_data]   Package wordnet is already up-to-date!\n",
      "[nltk_data] Downloading package tagsets to /Users/danayt/nltk_data...\n",
      "[nltk_data]   Package tagsets is already up-to-date!\n",
      "[nltk_data] Downloading package averaged_perceptron_tagger to\n",
      "[nltk_data]     /Users/danayt/nltk_data...\n",
      "[nltk_data]   Package averaged_perceptron_tagger is already up-to-\n",
      "[nltk_data]       date!\n",
      "[nltk_data] Downloading package punkt to /Users/danayt/nltk_data...\n",
      "[nltk_data]   Package punkt is already up-to-date!\n"
     ]
    },
    {
     "data": {
      "text/plain": [
       "True"
      ]
     },
     "execution_count": 34,
     "metadata": {},
     "output_type": "execute_result"
    }
   ],
   "source": [
    "%load_ext autoreload\n",
    "%autoreload 2\n",
    "\n",
    "import os\n",
    "import sys\n",
    "module_path = os.path.abspath(os.path.join(os.pardir, os.pardir))\n",
    "if module_path not in sys.path:\n",
    "    sys.path.append(module_path)\n",
    "\n",
    "from collections import defaultdict\n",
    "import numpy as np\n",
    "import pandas as pd\n",
    "import unicodedata\n",
    "\n",
    "import nltk\n",
    "from nltk.probability import FreqDist\n",
    "from nltk.corpus import stopwords, wordnet\n",
    "from nltk import pos_tag, bigrams\n",
    "from nltk.stem import WordNetLemmatizer\n",
    "from nltk.tokenize import word_tokenize, RegexpTokenizer\n",
    "import nltk.collocations as collocations\n",
    "from nltk.util import ngrams\n",
    "\n",
    "\n",
    "import matplotlib.pyplot as plt\n",
    "import seaborn as sns\n",
    "import string\n",
    "import re\n",
    "\n",
    "from sklearn.pipeline import Pipeline\n",
    "from sklearn.ensemble import RandomForestClassifier\n",
    "from sklearn.naive_bayes import MultinomialNB\n",
    "\n",
    "from sklearn.metrics import accuracy_score, precision_score, recall_score,  confusion_matrix, ConfusionMatrixDisplay,balanced_accuracy_score\n",
    "from sklearn.metrics import precision_recall_fscore_support, f1_score, classification_report\n",
    "from sklearn.utils.class_weight import compute_class_weight\n",
    "\n",
    "from sklearn.linear_model import LogisticRegression\n",
    "from sklearn.model_selection import train_test_split\n",
    "from sklearn.model_selection import RandomizedSearchCV, GridSearchCV\n",
    "from sklearn.model_selection import cross_val_score, cross_validate, KFold, StratifiedKFold\n",
    "from sklearn.feature_extraction.text import CountVectorizer, TfidfVectorizer\n",
    "\n",
    "import tensorflow as tf\n",
    "import keras\n",
    "from keras import layers\n",
    "from tensorflow.keras.models import Sequential\n",
    "from tensorflow.keras.layers import Embedding, LSTM, Dense\n",
    "from tensorflow.keras import datasets, layers, models, callbacks\n",
    "from kerastuner.tuners import RandomSearch\n",
    "from imblearn.over_sampling import RandomOverSampler\n",
    "\n",
    "nltk.download(\"stopwords\")\n",
    "nltk.download('wordnet')\n",
    "nltk.download('tagsets')\n",
    "nltk.download('averaged_perceptron_tagger')\n",
    "nltk.download('punkt')"
   ]
  },
  {
   "cell_type": "code",
   "execution_count": 2,
   "id": "d0db8c5f-7b30-4b48-86d5-1b0395ea259f",
   "metadata": {},
   "outputs": [
    {
     "name": "stdout",
     "output_type": "stream",
     "text": [
      "Requirement already satisfied: keras-tuner in /Users/danayt/anaconda3/envs/learn-env/lib/python3.9/site-packages (1.4.5)\n",
      "Requirement already satisfied: keras-core in /Users/danayt/anaconda3/envs/learn-env/lib/python3.9/site-packages (from keras-tuner) (0.1.7)\n",
      "Requirement already satisfied: packaging in /Users/danayt/anaconda3/envs/learn-env/lib/python3.9/site-packages (from keras-tuner) (23.1)\n",
      "Requirement already satisfied: requests in /Users/danayt/anaconda3/envs/learn-env/lib/python3.9/site-packages (from keras-tuner) (2.31.0)\n",
      "Requirement already satisfied: kt-legacy in /Users/danayt/anaconda3/envs/learn-env/lib/python3.9/site-packages (from keras-tuner) (1.0.5)\n",
      "Requirement already satisfied: absl-py in /Users/danayt/anaconda3/envs/learn-env/lib/python3.9/site-packages (from keras-core->keras-tuner) (1.4.0)\n",
      "Requirement already satisfied: numpy in /Users/danayt/anaconda3/envs/learn-env/lib/python3.9/site-packages (from keras-core->keras-tuner) (1.26.1)\n",
      "Requirement already satisfied: rich in /Users/danayt/anaconda3/envs/learn-env/lib/python3.9/site-packages (from keras-core->keras-tuner) (13.6.0)\n",
      "Requirement already satisfied: namex in /Users/danayt/anaconda3/envs/learn-env/lib/python3.9/site-packages (from keras-core->keras-tuner) (0.0.7)\n",
      "Requirement already satisfied: h5py in /Users/danayt/anaconda3/envs/learn-env/lib/python3.9/site-packages (from keras-core->keras-tuner) (3.6.0)\n",
      "Requirement already satisfied: dm-tree in /Users/danayt/anaconda3/envs/learn-env/lib/python3.9/site-packages (from keras-core->keras-tuner) (0.1.8)\n",
      "Requirement already satisfied: charset-normalizer<4,>=2 in /Users/danayt/anaconda3/envs/learn-env/lib/python3.9/site-packages (from requests->keras-tuner) (3.2.0)\n",
      "Requirement already satisfied: idna<4,>=2.5 in /Users/danayt/anaconda3/envs/learn-env/lib/python3.9/site-packages (from requests->keras-tuner) (3.4)\n",
      "Requirement already satisfied: urllib3<3,>=1.21.1 in /Users/danayt/anaconda3/envs/learn-env/lib/python3.9/site-packages (from requests->keras-tuner) (1.26.15)\n",
      "Requirement already satisfied: certifi>=2017.4.17 in /Users/danayt/anaconda3/envs/learn-env/lib/python3.9/site-packages (from requests->keras-tuner) (2023.7.22)\n",
      "Requirement already satisfied: markdown-it-py>=2.2.0 in /Users/danayt/anaconda3/envs/learn-env/lib/python3.9/site-packages (from rich->keras-core->keras-tuner) (3.0.0)\n",
      "Requirement already satisfied: pygments<3.0.0,>=2.13.0 in /Users/danayt/anaconda3/envs/learn-env/lib/python3.9/site-packages (from rich->keras-core->keras-tuner) (2.16.1)\n",
      "Requirement already satisfied: mdurl~=0.1 in /Users/danayt/anaconda3/envs/learn-env/lib/python3.9/site-packages (from markdown-it-py>=2.2.0->rich->keras-core->keras-tuner) (0.1.2)\n"
     ]
    }
   ],
   "source": [
    "# !pip install keras-tuner"
   ]
  },
  {
   "cell_type": "code",
   "execution_count": 3,
   "id": "d0a9f444-cef5-4061-89cd-99f7152ffb44",
   "metadata": {},
   "outputs": [],
   "source": [
    "data = pd.read_csv(\"../raw_data/judge-1377884607_tweet_product_company.csv\", encoding='unicode_escape')"
   ]
  },
  {
   "cell_type": "code",
   "execution_count": 4,
   "id": "30575c98-20a6-4ed8-9800-c4e859e9a15f",
   "metadata": {},
   "outputs": [],
   "source": [
    "# dopping null column from tweet_text column since it's only one and has no information for our analysis\n",
    "data.tweet_text.isna().sum()\n",
    "data.dropna(subset=['tweet_text'], inplace=True)"
   ]
  },
  {
   "cell_type": "code",
   "execution_count": 5,
   "id": "7d3d46e0-edf2-4422-b438-de942f605043",
   "metadata": {},
   "outputs": [],
   "source": [
    "# looking at our .describe, there seems to be some duplicates in our data and we'll go ahead and keep unique inputs only\n",
    "data.drop_duplicates(subset=['tweet_text'], inplace=True)"
   ]
  },
  {
   "cell_type": "code",
   "execution_count": 6,
   "id": "101c9868-e2fc-42b9-8897-31986d3d23ac",
   "metadata": {},
   "outputs": [],
   "source": [
    "# Creating a cleaned emotion_in tweet_is_directed_at column\n",
    "data.rename(columns={'emotion_in_tweet_is_directed_at': 'brand'}, inplace=True)\n",
    "data.rename(columns={'is_there_an_emotion_directed_at_a_brand_or_product': 'sentiment'}, inplace=True)"
   ]
  },
  {
   "cell_type": "code",
   "execution_count": 7,
   "id": "df195acb-d5cf-4877-bd97-9ddc6e94f7b7",
   "metadata": {},
   "outputs": [],
   "source": [
    "keywords = [\"Apple\", \"Google\", \"iPad\", \"iPhone\", \"Android\", \"goog\"]\n",
    "\n",
    "for keyword in keywords:\n",
    "    data[keyword] = data['tweet_text'].str.extract(f'({keyword})', flags=re.IGNORECASE)\n",
    "\n",
    "data['product'] = data[['Apple', 'iPhone', 'iPad', 'Google', 'Android']].apply(lambda x: 'Apple' if x[['Apple', 'iPhone', 'iPad']].any() \n",
    "                                                                                else 'Google' if x[['Google', 'Android']].any() \n",
    "                                                                                else None, axis=1)"
   ]
  },
  {
   "cell_type": "code",
   "execution_count": 8,
   "id": "79954635-1e73-4795-bd46-febe77ade811",
   "metadata": {},
   "outputs": [
    {
     "data": {
      "text/html": [
       "<div>\n",
       "<style scoped>\n",
       "    .dataframe tbody tr th:only-of-type {\n",
       "        vertical-align: middle;\n",
       "    }\n",
       "\n",
       "    .dataframe tbody tr th {\n",
       "        vertical-align: top;\n",
       "    }\n",
       "\n",
       "    .dataframe thead th {\n",
       "        text-align: right;\n",
       "    }\n",
       "</style>\n",
       "<table border=\"1\" class=\"dataframe\">\n",
       "  <thead>\n",
       "    <tr style=\"text-align: right;\">\n",
       "      <th></th>\n",
       "      <th>tweet_text</th>\n",
       "      <th>brand</th>\n",
       "      <th>sentiment</th>\n",
       "      <th>Apple</th>\n",
       "      <th>Google</th>\n",
       "      <th>iPad</th>\n",
       "      <th>iPhone</th>\n",
       "      <th>Android</th>\n",
       "      <th>goog</th>\n",
       "      <th>product</th>\n",
       "    </tr>\n",
       "  </thead>\n",
       "  <tbody>\n",
       "    <tr>\n",
       "      <th>9088</th>\n",
       "      <td>Ipad everywhere. #SXSW {link}</td>\n",
       "      <td>iPad</td>\n",
       "      <td>Positive emotion</td>\n",
       "      <td>NaN</td>\n",
       "      <td>NaN</td>\n",
       "      <td>Ipad</td>\n",
       "      <td>NaN</td>\n",
       "      <td>NaN</td>\n",
       "      <td>NaN</td>\n",
       "      <td>Apple</td>\n",
       "    </tr>\n",
       "    <tr>\n",
       "      <th>9089</th>\n",
       "      <td>Wave, buzz... RT @mention We interrupt your re...</td>\n",
       "      <td>NaN</td>\n",
       "      <td>No emotion toward brand or product</td>\n",
       "      <td>NaN</td>\n",
       "      <td>google</td>\n",
       "      <td>NaN</td>\n",
       "      <td>NaN</td>\n",
       "      <td>NaN</td>\n",
       "      <td>goog</td>\n",
       "      <td>Google</td>\n",
       "    </tr>\n",
       "    <tr>\n",
       "      <th>9090</th>\n",
       "      <td>Google's Zeiger, a physician never reported po...</td>\n",
       "      <td>NaN</td>\n",
       "      <td>No emotion toward brand or product</td>\n",
       "      <td>NaN</td>\n",
       "      <td>Google</td>\n",
       "      <td>NaN</td>\n",
       "      <td>NaN</td>\n",
       "      <td>NaN</td>\n",
       "      <td>Goog</td>\n",
       "      <td>Google</td>\n",
       "    </tr>\n",
       "    <tr>\n",
       "      <th>9091</th>\n",
       "      <td>Some Verizon iPhone customers complained their...</td>\n",
       "      <td>NaN</td>\n",
       "      <td>No emotion toward brand or product</td>\n",
       "      <td>NaN</td>\n",
       "      <td>NaN</td>\n",
       "      <td>NaN</td>\n",
       "      <td>iPhone</td>\n",
       "      <td>NaN</td>\n",
       "      <td>NaN</td>\n",
       "      <td>Apple</td>\n",
       "    </tr>\n",
       "    <tr>\n",
       "      <th>9092</th>\n",
       "      <td>Ï¡Ïàü_ÊÎÒ£Áââ_£â_ÛâRT @...</td>\n",
       "      <td>NaN</td>\n",
       "      <td>No emotion toward brand or product</td>\n",
       "      <td>NaN</td>\n",
       "      <td>Google</td>\n",
       "      <td>NaN</td>\n",
       "      <td>NaN</td>\n",
       "      <td>NaN</td>\n",
       "      <td>Goog</td>\n",
       "      <td>Google</td>\n",
       "    </tr>\n",
       "  </tbody>\n",
       "</table>\n",
       "</div>"
      ],
      "text/plain": [
       "                                             tweet_text brand  \\\n",
       "9088                      Ipad everywhere. #SXSW {link}  iPad   \n",
       "9089  Wave, buzz... RT @mention We interrupt your re...   NaN   \n",
       "9090  Google's Zeiger, a physician never reported po...   NaN   \n",
       "9091  Some Verizon iPhone customers complained their...   NaN   \n",
       "9092  Ï¡Ïàü_ÊÎÒ£Áââ_£â_ÛâRT @...   NaN   \n",
       "\n",
       "                               sentiment Apple  Google  iPad  iPhone Android  \\\n",
       "9088                    Positive emotion   NaN     NaN  Ipad     NaN     NaN   \n",
       "9089  No emotion toward brand or product   NaN  google   NaN     NaN     NaN   \n",
       "9090  No emotion toward brand or product   NaN  Google   NaN     NaN     NaN   \n",
       "9091  No emotion toward brand or product   NaN     NaN   NaN  iPhone     NaN   \n",
       "9092  No emotion toward brand or product   NaN  Google   NaN     NaN     NaN   \n",
       "\n",
       "      goog product  \n",
       "9088   NaN   Apple  \n",
       "9089  goog  Google  \n",
       "9090  Goog  Google  \n",
       "9091   NaN   Apple  \n",
       "9092  Goog  Google  "
      ]
     },
     "execution_count": 8,
     "metadata": {},
     "output_type": "execute_result"
    }
   ],
   "source": [
    "data"
   ]
  },
  {
   "cell_type": "code",
   "execution_count": 9,
   "id": "e011b152-32a6-403b-b859-a25093a75857",
   "metadata": {},
   "outputs": [
    {
     "data": {
      "text/plain": [
       "product\n",
       "Apple     5517\n",
       "Google    2764\n",
       "Name: count, dtype: int64"
      ]
     },
     "execution_count": 9,
     "metadata": {},
     "output_type": "execute_result"
    }
   ],
   "source": [
    "data['product'].value_counts()"
   ]
  },
  {
   "cell_type": "code",
   "execution_count": 10,
   "id": "0ec84b41-bd2a-4b65-b2fa-481300853d04",
   "metadata": {},
   "outputs": [
    {
     "data": {
      "text/plain": [
       "784"
      ]
     },
     "execution_count": 10,
     "metadata": {},
     "output_type": "execute_result"
    }
   ],
   "source": [
    "# Since we've classified our product column, we'll drop nulls as we're interested with apple and google products\n",
    "data['product'].isna().sum()"
   ]
  },
  {
   "cell_type": "code",
   "execution_count": 11,
   "id": "b727ec86-d94c-4d86-83a3-b929d6e5f058",
   "metadata": {},
   "outputs": [],
   "source": [
    "#Dropped to focus on tweets where google and apple where mentioned\n",
    "data.dropna(subset=['product'], inplace=True)"
   ]
  },
  {
   "cell_type": "code",
   "execution_count": 12,
   "id": "e6255b78-aaa1-4b06-99c3-1c9040015d49",
   "metadata": {},
   "outputs": [],
   "source": [
    "data['sentiment'].replace(\"I can't tell\" , \"Neutral emotion\", inplace=True)\n",
    "data['sentiment'].replace(\"No emotion toward brand or product\" , \"Neutral emotion\", inplace=True)\n",
    "data['sentiment'].replace(\"No emotion toward brand or product\" , \"Neutral emotion\", inplace=True)"
   ]
  },
  {
   "cell_type": "code",
   "execution_count": 13,
   "id": "3a70de33-516c-4377-8976-5b35d3ed1c33",
   "metadata": {},
   "outputs": [],
   "source": [
    "target_to_replace = {'Positive emotion':2, 'Neutral emotion':1,\n",
    "                   'Negative emotion':0}\n",
    "\n",
    "data['sentiment']  = data['sentiment'].replace(target_to_replace)"
   ]
  },
  {
   "cell_type": "code",
   "execution_count": 14,
   "id": "3d29e45f-5e02-4c8d-9351-27be5c27d46f",
   "metadata": {
    "scrolled": true
   },
   "outputs": [
    {
     "data": {
      "text/plain": [
       "sentiment\n",
       "1    4783\n",
       "2    2930\n",
       "0     568\n",
       "Name: count, dtype: int64"
      ]
     },
     "execution_count": 14,
     "metadata": {},
     "output_type": "execute_result"
    }
   ],
   "source": [
    "data['sentiment'].value_counts()"
   ]
  },
  {
   "cell_type": "code",
   "execution_count": 15,
   "id": "6e7a2948-0657-4b3e-9d9f-f4ae9a9d8274",
   "metadata": {},
   "outputs": [
    {
     "data": {
      "text/plain": [
       "product\n",
       "Apple     5517\n",
       "Google    2764\n",
       "Name: count, dtype: int64"
      ]
     },
     "execution_count": 15,
     "metadata": {},
     "output_type": "execute_result"
    }
   ],
   "source": [
    "data['product'].value_counts()"
   ]
  },
  {
   "cell_type": "code",
   "execution_count": 16,
   "id": "0cb4f8ab-173d-4712-968d-e0df51e57a3d",
   "metadata": {},
   "outputs": [],
   "source": [
    "data['product'] = data['product'].astype(str)"
   ]
  },
  {
   "cell_type": "code",
   "execution_count": 17,
   "id": "ef8092a6-b443-490c-b582-da938455926e",
   "metadata": {},
   "outputs": [],
   "source": [
    "sw = stopwords.words('english')\n",
    "sw.extend([\"apple\", \"google\", \"ipad\", \"iphone\", \"android\", \"sxsw\", \"link\", \"mention\", \"sxwsi\", \"hmmm\", \"sxswu\", \"goog\", \"iusxsw\",\n",
    "           \"etc\", \"via\", \"today\", \"hmmmm\"])"
   ]
  },
  {
   "cell_type": "code",
   "execution_count": 18,
   "id": "ec9659cd-9925-44fe-b72c-08384f84ccb4",
   "metadata": {},
   "outputs": [],
   "source": [
    "# Custom tokenizer\n",
    "def doc_preparer(doc, stop_words=sw):\n",
    "\n",
    "    #lemmatized, parsed for stopwords, made lowercase,and stripped of punctuation and numbers.\n",
    "    doc = unicodedata.normalize('NFKD', doc).encode('ascii', 'ignore').decode('utf-8', 'ignore')\n",
    "    # Remove URLs\n",
    "    doc = re.sub(r'http\\S+|www\\S+|https\\S+', '', doc, flags=re.MULTILINE)\n",
    "    # Remove mentions and hashtags\n",
    "    doc = re.sub(r'\\@\\w+|\\#','', doc)\n",
    "    regex_token = RegexpTokenizer(r\"([a-zA-Z]+(?:’[a-z]+)?)\")\n",
    "    doc = regex_token.tokenize(doc)\n",
    "    doc = [word.lower() for word in doc]\n",
    "    doc = [word for word in doc if word not in sw]\n",
    "    doc = [word for word in doc if len(word) > 1]  # Remove tokens with length <= 1\n",
    "    # print(doc)\n",
    "    doc = pos_tag(doc)\n",
    "    doc = [(word[0], get_wordnet_pos(word[1])) for word in doc]\n",
    "    lemmatizer = WordNetLemmatizer() \n",
    "    doc = [lemmatizer.lemmatize(word[0], word[1]) for word in doc]\n",
    "    return ' '.join(doc)\n",
    " # Translate nltk POS to wordnet tags\n",
    "def get_wordnet_pos(treebank_tag):\n",
    "    '''\n",
    "    Translate nltk POS to wordnet tags\n",
    "    '''\n",
    "    if treebank_tag.startswith('J'):\n",
    "        return wordnet.ADJ\n",
    "    elif treebank_tag.startswith('V'):\n",
    "        return wordnet.VERB\n",
    "    elif treebank_tag.startswith('N'):\n",
    "        return wordnet.NOUN\n",
    "    elif treebank_tag.startswith('R'):\n",
    "        return wordnet.ADV\n",
    "    else:\n",
    "        return wordnet.NOUN"
   ]
  },
  {
   "cell_type": "code",
   "execution_count": 19,
   "id": "e3178302-0e83-4a93-a114-492c7f29de6e",
   "metadata": {},
   "outputs": [],
   "source": [
    "# Extracting important features from our data \n",
    "corpse = data.tweet_text\n",
    "target = data.sentiment\n",
    "product = data.product"
   ]
  },
  {
   "cell_type": "code",
   "execution_count": 20,
   "id": "87846916-20f5-40cf-a360-77b8421cfd23",
   "metadata": {},
   "outputs": [],
   "source": [
    "token_text = [doc_preparer(doc,sw) for doc in corpse]"
   ]
  },
  {
   "cell_type": "code",
   "execution_count": 21,
   "id": "c5d80acc-6236-4db9-bd58-d269e40ef9f2",
   "metadata": {},
   "outputs": [],
   "source": [
    "# Convert the 'product' column to strings\n",
    "data['product'] = data['product'].astype(str)\n",
    "\n",
    "# Concatenate the \"corpse\" and \"product\" columns\n",
    "data['text_with_product'] = [text + ' ' + product for text, product in zip(token_text, data['product'])]\n",
    "\n",
    "# Assign the concatenated text to X\n",
    "X = data['text_with_product']\n",
    "\n",
    "# Assign the target labels to y\n",
    "y = data['sentiment']"
   ]
  },
  {
   "cell_type": "code",
   "execution_count": 22,
   "id": "f4265a9e-34c7-4f16-b29c-05d149cd155b",
   "metadata": {},
   "outputs": [],
   "source": [
    "X_train, X_test, y_train, y_test = train_test_split(X,\n",
    "                                                    y,\n",
    "                                                    random_state=42,\n",
    "                                                    test_size=0.25)"
   ]
  },
  {
   "cell_type": "code",
   "execution_count": 23,
   "id": "64f5a659-af99-428b-9372-876f1a830af9",
   "metadata": {},
   "outputs": [],
   "source": [
    "X_t, X_val, y_t, y_val = train_test_split(X_train, y_train,\n",
    "                                          test_size=0.25, random_state=42)"
   ]
  },
  {
   "cell_type": "code",
   "execution_count": 24,
   "id": "a5977c09-859f-4501-91a3-65e55cf79b00",
   "metadata": {},
   "outputs": [],
   "source": [
    "#ui\n",
    "#lt\n",
    "#rt"
   ]
  },
  {
   "cell_type": "markdown",
   "id": "df4461d0-1810-40c3-9ac7-591b39cb60db",
   "metadata": {},
   "source": [
    "# Baseline Model, MultinomialNB"
   ]
  },
  {
   "cell_type": "code",
   "execution_count": 25,
   "id": "1db91859-9433-4b41-bc43-9784091a77e8",
   "metadata": {
    "scrolled": true
   },
   "outputs": [
    {
     "name": "stderr",
     "output_type": "stream",
     "text": [
      "/Users/danayt/anaconda3/envs/learn-env/lib/python3.9/site-packages/sklearn/metrics/_classification.py:1469: UndefinedMetricWarning: Precision is ill-defined and being set to 0.0 in labels with no predicted samples. Use `zero_division` parameter to control this behavior.\n",
      "  _warn_prf(average, modifier, msg_start, len(result))\n"
     ]
    },
    {
     "data": {
      "text/plain": [
       "0.6314154919339979"
      ]
     },
     "execution_count": 25,
     "metadata": {},
     "output_type": "execute_result"
    }
   ],
   "source": [
    "tfidf = TfidfVectorizer(ngram_range=(1, 2))\n",
    "\n",
    "X_t_vec = tfidf.fit_transform(X_t)\n",
    "\n",
    "X_val_vec = tfidf.transform(X_val)\n",
    "\n",
    "mnb = MultinomialNB()\n",
    "\n",
    "mnb.fit(X_t_vec, y_t)\n",
    "y_hat = mnb.predict(X_val_vec)\n",
    "\n",
    "precision_score(y_val, y_hat, average='weighted')"
   ]
  },
  {
   "cell_type": "code",
   "execution_count": 26,
   "id": "ef21a51d-a72f-4f3d-9088-b6973a1bdaf9",
   "metadata": {},
   "outputs": [
    {
     "data": {
      "text/plain": [
       "0.657437218287186"
      ]
     },
     "execution_count": 26,
     "metadata": {},
     "output_type": "execute_result"
    }
   ],
   "source": [
    "y_hat = mnb.predict(X_val_vec)\n",
    "accuracy_score(y_val, y_hat)"
   ]
  },
  {
   "cell_type": "code",
   "execution_count": 27,
   "id": "2a729a10-abeb-43c0-a222-8c3ecefa8a75",
   "metadata": {},
   "outputs": [
    {
     "name": "stdout",
     "output_type": "stream",
     "text": [
      "Accuracy:\n",
      "Train Accuracy: 0.8200558299334335\n",
      "Test Accuracy: 0.657437218287186\n",
      "\n",
      "Balanced Accuracy:\n",
      "Train Accuracy: 0.5724864220076644\n",
      "Test Accuracy: 0.4076328192297774\n"
     ]
    }
   ],
   "source": [
    "y_t_mnb = mnb.predict(X_t_vec)\n",
    "y_t_pred_mnb= mnb.predict(X_val_vec)\n",
    "\n",
    "print(\"Accuracy:\")\n",
    "train_accuracy = accuracy_score(y_t, y_t_mnb)\n",
    "print(\"Train Accuracy:\", train_accuracy)\n",
    "\n",
    "test_accuracy = accuracy_score(y_val, y_t_pred_mnb)\n",
    "print(\"Test Accuracy:\", test_accuracy)\n",
    "\n",
    "print(\"\\nBalanced Accuracy:\")\n",
    "train_accuracy = balanced_accuracy_score(y_t, y_t_mnb)\n",
    "print(\"Train Accuracy:\", train_accuracy)\n",
    "\n",
    "test_accuracy = balanced_accuracy_score(y_val, y_t_pred_mnb)\n",
    "print(\"Test Accuracy:\", test_accuracy)"
   ]
  },
  {
   "cell_type": "code",
   "execution_count": 32,
   "id": "ce87b43d-7511-4a91-b2e9-0ae5c8996b0a",
   "metadata": {
    "scrolled": true
   },
   "outputs": [
    {
     "name": "stdout",
     "output_type": "stream",
     "text": [
      "              precision    recall  f1-score   support\n",
      "\n",
      "           0       0.00      0.00      0.00       103\n",
      "           1       0.65      0.95      0.77       924\n",
      "           2       0.73      0.27      0.40       526\n",
      "\n",
      "    accuracy                           0.66      1553\n",
      "   macro avg       0.46      0.41      0.39      1553\n",
      "weighted avg       0.63      0.66      0.59      1553\n",
      "\n"
     ]
    },
    {
     "name": "stderr",
     "output_type": "stream",
     "text": [
      "/Users/danayt/anaconda3/envs/learn-env/lib/python3.9/site-packages/sklearn/metrics/_classification.py:1469: UndefinedMetricWarning: Precision and F-score are ill-defined and being set to 0.0 in labels with no predicted samples. Use `zero_division` parameter to control this behavior.\n",
      "  _warn_prf(average, modifier, msg_start, len(result))\n",
      "/Users/danayt/anaconda3/envs/learn-env/lib/python3.9/site-packages/sklearn/metrics/_classification.py:1469: UndefinedMetricWarning: Precision and F-score are ill-defined and being set to 0.0 in labels with no predicted samples. Use `zero_division` parameter to control this behavior.\n",
      "  _warn_prf(average, modifier, msg_start, len(result))\n",
      "/Users/danayt/anaconda3/envs/learn-env/lib/python3.9/site-packages/sklearn/metrics/_classification.py:1469: UndefinedMetricWarning: Precision and F-score are ill-defined and being set to 0.0 in labels with no predicted samples. Use `zero_division` parameter to control this behavior.\n",
      "  _warn_prf(average, modifier, msg_start, len(result))\n"
     ]
    },
    {
     "data": {
      "image/png": "[encoded data removed]",
      "text/plain": [
       "<Figure size 640x480 with 2 Axes>"
      ]
     },
     "metadata": {},
     "output_type": "display_data"
    }
   ],
   "source": [
    "print(classification_report(y_val, y_t_pred_mnb)) \n",
    "cm = confusion_matrix(y_val, y_t_pred_mnb)\n",
    "disp = ConfusionMatrixDisplay(confusion_matrix=cm)\n",
    "disp.plot()\n",
    "plt.show()"
   ]
  },
  {
   "cell_type": "markdown",
   "id": "8b48bec0-48a4-4ffb-b11b-993a3f8c6157",
   "metadata": {},
   "source": [
    "# Balanced MultinomialNB"
   ]
  },
  {
   "cell_type": "code",
   "execution_count": 44,
   "id": "cc5c2a16-1ffa-4d05-8851-e5add505b6ba",
   "metadata": {},
   "outputs": [
    {
     "data": {
      "text/html": [
       "<style>#sk-container-id-3 {color: black;}#sk-container-id-3 pre{padding: 0;}#sk-container-id-3 div.sk-toggleable {background-color: white;}#sk-container-id-3 label.sk-toggleable__label {cursor: pointer;display: block;width: 100%;margin-bottom: 0;padding: 0.3em;box-sizing: border-box;text-align: center;}#sk-container-id-3 label.sk-toggleable__label-arrow:before {content: \"▸\";float: left;margin-right: 0.25em;color: #696969;}#sk-container-id-3 label.sk-toggleable__label-arrow:hover:before {color: black;}#sk-container-id-3 div.sk-estimator:hover label.sk-toggleable__label-arrow:before {color: black;}#sk-container-id-3 div.sk-toggleable__content {max-height: 0;max-width: 0;overflow: hidden;text-align: left;background-color: #f0f8ff;}#sk-container-id-3 div.sk-toggleable__content pre {margin: 0.2em;color: black;border-radius: 0.25em;background-color: #f0f8ff;}#sk-container-id-3 input.sk-toggleable__control:checked~div.sk-toggleable__content {max-height: 200px;max-width: 100%;overflow: auto;}#sk-container-id-3 input.sk-toggleable__control:checked~label.sk-toggleable__label-arrow:before {content: \"▾\";}#sk-container-id-3 div.sk-estimator input.sk-toggleable__control:checked~label.sk-toggleable__label {background-color: #d4ebff;}#sk-container-id-3 div.sk-label input.sk-toggleable__control:checked~label.sk-toggleable__label {background-color: #d4ebff;}#sk-container-id-3 input.sk-hidden--visually {border: 0;clip: rect(1px 1px 1px 1px);clip: rect(1px, 1px, 1px, 1px);height: 1px;margin: -1px;overflow: hidden;padding: 0;position: absolute;width: 1px;}#sk-container-id-3 div.sk-estimator {font-family: monospace;background-color: #f0f8ff;border: 1px dotted black;border-radius: 0.25em;box-sizing: border-box;margin-bottom: 0.5em;}#sk-container-id-3 div.sk-estimator:hover {background-color: #d4ebff;}#sk-container-id-3 div.sk-parallel-item::after {content: \"\";width: 100%;border-bottom: 1px solid gray;flex-grow: 1;}#sk-container-id-3 div.sk-label:hover label.sk-toggleable__label {background-color: #d4ebff;}#sk-container-id-3 div.sk-serial::before {content: \"\";position: absolute;border-left: 1px solid gray;box-sizing: border-box;top: 0;bottom: 0;left: 50%;z-index: 0;}#sk-container-id-3 div.sk-serial {display: flex;flex-direction: column;align-items: center;background-color: white;padding-right: 0.2em;padding-left: 0.2em;position: relative;}#sk-container-id-3 div.sk-item {position: relative;z-index: 1;}#sk-container-id-3 div.sk-parallel {display: flex;align-items: stretch;justify-content: center;background-color: white;position: relative;}#sk-container-id-3 div.sk-item::before, #sk-container-id-3 div.sk-parallel-item::before {content: \"\";position: absolute;border-left: 1px solid gray;box-sizing: border-box;top: 0;bottom: 0;left: 50%;z-index: -1;}#sk-container-id-3 div.sk-parallel-item {display: flex;flex-direction: column;z-index: 1;position: relative;background-color: white;}#sk-container-id-3 div.sk-parallel-item:first-child::after {align-self: flex-end;width: 50%;}#sk-container-id-3 div.sk-parallel-item:last-child::after {align-self: flex-start;width: 50%;}#sk-container-id-3 div.sk-parallel-item:only-child::after {width: 0;}#sk-container-id-3 div.sk-dashed-wrapped {border: 1px dashed gray;margin: 0 0.4em 0.5em 0.4em;box-sizing: border-box;padding-bottom: 0.4em;background-color: white;}#sk-container-id-3 div.sk-label label {font-family: monospace;font-weight: bold;display: inline-block;line-height: 1.2em;}#sk-container-id-3 div.sk-label-container {text-align: center;}#sk-container-id-3 div.sk-container {/* jupyter's `normalize.less` sets `[hidden] { display: none; }` but bootstrap.min.css set `[hidden] { display: none !important; }` so we also need the `!important` here to be able to override the default hidden behavior on the sphinx rendered scikit-learn.org. See: https://github.com/scikit-learn/scikit-learn/issues/21755 */display: inline-block !important;position: relative;}#sk-container-id-3 div.sk-text-repr-fallback {display: none;}</style><div id=\"sk-container-id-3\" class=\"sk-top-container\"><div class=\"sk-text-repr-fallback\"><pre>MultinomialNB()</pre><b>In a Jupyter environment, please rerun this cell to show the HTML representation or trust the notebook. <br />On GitHub, the HTML representation is unable to render, please try loading this page with nbviewer.org.</b></div><div class=\"sk-container\" hidden><div class=\"sk-item\"><div class=\"sk-estimator sk-toggleable\"><input class=\"sk-toggleable__control sk-hidden--visually\" id=\"sk-estimator-id-3\" type=\"checkbox\" checked><label for=\"sk-estimator-id-3\" class=\"sk-toggleable__label sk-toggleable__label-arrow\">MultinomialNB</label><div class=\"sk-toggleable__content\"><pre>MultinomialNB()</pre></div></div></div></div></div>"
      ],
      "text/plain": [
       "MultinomialNB()"
      ]
     },
     "execution_count": 44,
     "metadata": {},
     "output_type": "execute_result"
    }
   ],
   "source": [
    "# Create an instance of RandomOverSampler\n",
    "oversampler = RandomOverSampler()\n",
    "\n",
    "# Resample the data\n",
    "X_resampled, y_resampled = oversampler.fit_resample(X_t_vec, y_t)\n",
    "\n",
    "\n",
    "# Create and fit the MultinomialNB model\n",
    "mnb1 = MultinomialNB()\n",
    "mnb1.fit(X_resampled, y_resampled)"
   ]
  },
  {
   "cell_type": "code",
   "execution_count": 42,
   "id": "eb8b1bf7-2e7c-425a-8ddf-8ed80fa8da4a",
   "metadata": {},
   "outputs": [
    {
     "data": {
      "text/plain": [
       "array([1, 1, 2, ..., 0, 2, 2])"
      ]
     },
     "execution_count": 42,
     "metadata": {},
     "output_type": "execute_result"
    }
   ],
   "source": [
    "# y_t_pred_mnb1 = mnb1.predict(X_t_vec)"
   ]
  },
  {
   "cell_type": "code",
   "execution_count": 45,
   "id": "73e70a3b-be57-472d-9920-111d5fe5aad6",
   "metadata": {},
   "outputs": [
    {
     "name": "stdout",
     "output_type": "stream",
     "text": [
      "Accuracy:\n",
      "Train Accuracy: 0.9057333047025983\n",
      "Test Accuracy: 0.6097875080489376\n",
      "\n",
      "Balanced Accuracy:\n",
      "Train Accuracy: 0.926226053491909\n",
      "Test Accuracy: 0.5828907619302244\n"
     ]
    }
   ],
   "source": [
    "y_t_mnb1 = mnb1.predict(X_t_vec)\n",
    "y_t_pred_mnb1 = mnb1.predict(X_val_vec)\n",
    "\n",
    "print(\"Accuracy:\")\n",
    "train_accuracy = accuracy_score(y_t, y_t_mnb1)\n",
    "print(\"Train Accuracy:\", train_accuracy)\n",
    "\n",
    "test_accuracy = accuracy_score(y_val, y_t_pred_mnb1)\n",
    "print(\"Test Accuracy:\", test_accuracy)\n",
    "\n",
    "print(\"\\nBalanced Accuracy:\")\n",
    "train_accuracy = balanced_accuracy_score(y_t, y_t_mnb1)\n",
    "print(\"Train Accuracy:\", train_accuracy)\n",
    "\n",
    "test_accuracy = balanced_accuracy_score(y_val, y_t_pred_mnb1)\n",
    "print(\"Test Accuracy:\", test_accuracy)"
   ]
  },
  {
   "cell_type": "code",
   "execution_count": 46,
   "id": "8bfe2ecb-babd-4e5a-8561-39f5c3fbe4e3",
   "metadata": {},
   "outputs": [
    {
     "name": "stdout",
     "output_type": "stream",
     "text": [
      "              precision    recall  f1-score   support\n",
      "\n",
      "           0       0.25      0.52      0.34       103\n",
      "           1       0.75      0.63      0.68       924\n",
      "           2       0.55      0.60      0.57       526\n",
      "\n",
      "    accuracy                           0.61      1553\n",
      "   macro avg       0.52      0.58      0.53      1553\n",
      "weighted avg       0.65      0.61      0.62      1553\n",
      "\n"
     ]
    },
    {
     "data": {
      "image/png": "[encoded data removed]",
      "text/plain": [
       "<Figure size 640x480 with 2 Axes>"
      ]
     },
     "metadata": {},
     "output_type": "display_data"
    }
   ],
   "source": [
    "print(classification_report(y_val, y_t_pred_mnb1)) \n",
    "cm = confusion_matrix(y_val, y_t_pred_mnb1)\n",
    "disp = ConfusionMatrixDisplay(confusion_matrix=cm)\n",
    "disp.plot()\n",
    "plt.show()"
   ]
  },
  {
   "cell_type": "code",
   "execution_count": null,
   "id": "56b71ebf-3648-49c9-bfa7-6dcda3f0d2a5",
   "metadata": {},
   "outputs": [],
   "source": []
  },
  {
   "cell_type": "markdown",
   "id": "c1f0823c-88af-4997-b156-cd4d8ca33c1f",
   "metadata": {},
   "source": [
    "# LogisticRegression"
   ]
  },
  {
   "cell_type": "code",
   "execution_count": 28,
   "id": "4bde9eb2-417e-4072-8d74-3d1f879c14d6",
   "metadata": {},
   "outputs": [
    {
     "name": "stderr",
     "output_type": "stream",
     "text": [
      "/Users/danayt/anaconda3/envs/learn-env/lib/python3.9/site-packages/sklearn/linear_model/_sag.py:350: ConvergenceWarning: The max_iter was reached which means the coef_ did not converge\n",
      "  warnings.warn(\n"
     ]
    },
    {
     "data": {
      "text/plain": [
       "0.6697035972529065"
      ]
     },
     "execution_count": 28,
     "metadata": {},
     "output_type": "execute_result"
    }
   ],
   "source": [
    "lr =  LogisticRegression(random_state =42, multi_class='multinomial', solver='saga', class_weight='balanced', n_jobs=-1)\n",
    "\n",
    "lr.fit(X_t_vec, y_t)\n",
    "y_hat = lr.predict(X_val_vec)\n",
    "\n",
    "precision_score(y_val, y_hat, average='weighted')"
   ]
  },
  {
   "cell_type": "code",
   "execution_count": 29,
   "id": "359e1064-76ba-4db1-94f5-94f69b21e474",
   "metadata": {},
   "outputs": [
    {
     "name": "stdout",
     "output_type": "stream",
     "text": [
      "Accuracy:\n",
      "Train Accuracy: 0.6691002791496672\n",
      "Test Accuracy: 0.4713457823567289\n",
      "\n",
      "Balanced Accuracy:\n",
      "Train Accuracy: 0.7780168563909768\n",
      "Test Accuracy: 0.5650605797990346\n"
     ]
    }
   ],
   "source": [
    "y_t_lr = lr.predict(X_t_vec)\n",
    "y_t_pred_lr= lr.predict(X_val_vec)\n",
    "\n",
    "print(\"Accuracy:\")\n",
    "train_accuracy = accuracy_score(y_t, y_t_lr)\n",
    "print(\"Train Accuracy:\", train_accuracy)\n",
    "\n",
    "test_accuracy = accuracy_score(y_val, y_t_pred_lr)\n",
    "print(\"Test Accuracy:\", test_accuracy)\n",
    "\n",
    "print(\"\\nBalanced Accuracy:\")\n",
    "train_accuracy = balanced_accuracy_score(y_t, y_t_lr)\n",
    "print(\"Train Accuracy:\", train_accuracy)\n",
    "\n",
    "test_accuracy = balanced_accuracy_score(y_val, y_t_pred_lr)\n",
    "print(\"Test Accuracy:\", test_accuracy)"
   ]
  },
  {
   "cell_type": "code",
   "execution_count": 30,
   "id": "b35ef1e0-01aa-4bfb-bee6-a0fca68183f5",
   "metadata": {},
   "outputs": [
    {
     "name": "stdout",
     "output_type": "stream",
     "text": [
      "              precision    recall  f1-score   support\n",
      "\n",
      "           0       0.13      0.76      0.23       103\n",
      "           1       0.79      0.40      0.53       924\n",
      "           2       0.57      0.53      0.55       526\n",
      "\n",
      "    accuracy                           0.47      1553\n",
      "   macro avg       0.50      0.57      0.44      1553\n",
      "weighted avg       0.67      0.47      0.52      1553\n",
      "\n"
     ]
    },
    {
     "data": {
      "image/png": "[encoded data removed]",
      "text/plain": [
       "<Figure size 640x480 with 2 Axes>"
      ]
     },
     "metadata": {},
     "output_type": "display_data"
    }
   ],
   "source": [
    "print(classification_report(y_val, y_t_pred_lr)) \n",
    "cm = confusion_matrix(y_val, y_t_pred_lr)\n",
    "disp = ConfusionMatrixDisplay(confusion_matrix=cm)\n",
    "disp.plot()\n",
    "plt.show()"
   ]
  },
  {
   "cell_type": "code",
   "execution_count": null,
   "id": "227b3d89-b403-4166-a133-0a66a5616171",
   "metadata": {},
   "outputs": [],
   "source": []
  },
  {
   "cell_type": "code",
   "execution_count": 47,
   "id": "8805b72b-3367-4397-974b-36a8d5b45691",
   "metadata": {},
   "outputs": [],
   "source": [
    "X_t_vec_dense = X_t_vec.toarray()\n",
    "X_val_vec_dense = X_val_vec.toarray()"
   ]
  },
  {
   "cell_type": "code",
   "execution_count": null,
   "id": "6d25f1e0-e617-4688-8e6d-e0a6cc3f192d",
   "metadata": {},
   "outputs": [
    {
     "name": "stdout",
     "output_type": "stream",
     "text": [
      "Epoch 1/20\n"
     ]
    },
    {
     "name": "stderr",
     "output_type": "stream",
     "text": [
      "2023-10-24 22:32:32.676218: I tensorflow/core/grappler/optimizers/custom_graph_optimizer_registry.cc:117] Plugin optimizer for device_type GPU is enabled.\n"
     ]
    },
    {
     "name": "stdout",
     "output_type": "stream",
     "text": [
      "36/73 [=============>................] - ETA: 29:02 - loss: 1.0926 - accuracy: 0.4119"
     ]
    },
    {
     "name": "stderr",
     "output_type": "stream",
     "text": [
      "Error: command buffer exited with error status.\n",
      "\tThe Metal Performance Shaders operations encoded on it may not have completed.\n",
      "\tError: \n",
      "\t(null)\n",
      "\tInsufficient Memory (00000008:kIOGPUCommandBufferCallbackErrorOutOfMemory)\n",
      "\t<AGXG14GFamilyCommandBuffer: 0x31cdad030>\n",
      "    label = <none> \n",
      "    device = <AGXG14GDevice: 0x126b93a00>\n",
      "        name = Apple M2 \n",
      "    commandQueue = <AGXG14GFamilyCommandQueue: 0x116981600>\n",
      "        label = <none> \n",
      "        device = <AGXG14GDevice: 0x126b93a00>\n",
      "            name = Apple M2 \n",
      "    retainedReferences = 1\n"
     ]
    },
    {
     "name": "stdout",
     "output_type": "stream",
     "text": [
      "73/73 [==============================] - 2049s 28s/step - loss: 1.0988 - accuracy: 0.3955 - val_loss: 1.0972 - val_accuracy: 0.5879\n",
      "Epoch 2/20\n",
      " 4/73 [>.............................] - ETA: 8:45 - loss: 0.9733 - accuracy: 0.6289"
     ]
    },
    {
     "name": "stderr",
     "output_type": "stream",
     "text": [
      "Error: command buffer exited with error status.\n",
      "\tThe Metal Performance Shaders operations encoded on it may not have completed.\n",
      "\tError: \n",
      "\t(null)\n",
      "\tInsufficient Memory (00000008:kIOGPUCommandBufferCallbackErrorOutOfMemory)\n",
      "\t<AGXG14GFamilyCommandBuffer: 0x323dff4c0>\n",
      "    label = <none> \n",
      "    device = <AGXG14GDevice: 0x126b93a00>\n",
      "        name = Apple M2 \n",
      "    commandQueue = <AGXG14GFamilyCommandQueue: 0x116981600>\n",
      "        label = <none> \n",
      "        device = <AGXG14GDevice: 0x126b93a00>\n",
      "            name = Apple M2 \n",
      "    retainedReferences = 1\n"
     ]
    },
    {
     "name": "stdout",
     "output_type": "stream",
     "text": [
      "10/73 [===>..........................] - ETA: 7:47 - loss: 1.0156 - accuracy: 0.6016"
     ]
    },
    {
     "name": "stderr",
     "output_type": "stream",
     "text": [
      "Error: command buffer exited with error status.\n",
      "\tThe Metal Performance Shaders operations encoded on it may not have completed.\n",
      "\tError: \n",
      "\t(null)\n",
      "\tInsufficient Memory (00000008:kIOGPUCommandBufferCallbackErrorOutOfMemory)\n",
      "\t<AGXG14GFamilyCommandBuffer: 0x323fb7200>\n",
      "    label = <none> \n",
      "    device = <AGXG14GDevice: 0x126b93a00>\n",
      "        name = Apple M2 \n",
      "    commandQueue = <AGXG14GFamilyCommandQueue: 0x116981600>\n",
      "        label = <none> \n",
      "        device = <AGXG14GDevice: 0x126b93a00>\n",
      "            name = Apple M2 \n",
      "    retainedReferences = 1\n"
     ]
    },
    {
     "name": "stdout",
     "output_type": "stream",
     "text": [
      "19/73 [======>.......................] - ETA: 6:38 - loss: 1.1160 - accuracy: 0.5625"
     ]
    },
    {
     "name": "stderr",
     "output_type": "stream",
     "text": [
      "Error: command buffer exited with error status.\n",
      "\tThe Metal Performance Shaders operations encoded on it may not have completed.\n",
      "\tError: \n",
      "\t(null)\n",
      "\tInsufficient Memory (00000008:kIOGPUCommandBufferCallbackErrorOutOfMemory)\n",
      "\t<AGXG14GFamilyCommandBuffer: 0x3224688d0>\n",
      "    label = <none> \n",
      "    device = <AGXG14GDevice: 0x126b93a00>\n",
      "        name = Apple M2 \n",
      "    commandQueue = <AGXG14GFamilyCommandQueue: 0x116981600>\n",
      "        label = <none> \n",
      "        device = <AGXG14GDevice: 0x126b93a00>\n",
      "            name = Apple M2 \n",
      "    retainedReferences = 1\n"
     ]
    },
    {
     "name": "stdout",
     "output_type": "stream",
     "text": [
      "22/73 [========>.....................] - ETA: 6:17 - loss: 1.1084 - accuracy: 0.5632"
     ]
    },
    {
     "name": "stderr",
     "output_type": "stream",
     "text": [
      "Error: command buffer exited with error status.\n",
      "\tThe Metal Performance Shaders operations encoded on it may not have completed.\n",
      "\tError: \n",
      "\t(null)\n",
      "\tInsufficient Memory (00000008:kIOGPUCommandBufferCallbackErrorOutOfMemory)\n",
      "\t<AGXG14GFamilyCommandBuffer: 0x28d44db00>\n",
      "    label = <none> \n",
      "    device = <AGXG14GDevice: 0x126b93a00>\n",
      "        name = Apple M2 \n",
      "    commandQueue = <AGXG14GFamilyCommandQueue: 0x116981600>\n",
      "        label = <none> \n",
      "        device = <AGXG14GDevice: 0x126b93a00>\n",
      "            name = Apple M2 \n",
      "    retainedReferences = 1\n"
     ]
    },
    {
     "name": "stdout",
     "output_type": "stream",
     "text": [
      "35/73 [=============>................] - ETA: 4:36 - loss: 1.1145 - accuracy: 0.5388"
     ]
    },
    {
     "name": "stderr",
     "output_type": "stream",
     "text": [
      "Error: command buffer exited with error status.\n",
      "\tThe Metal Performance Shaders operations encoded on it may not have completed.\n",
      "\tError: \n",
      "\t(null)\n",
      "\tInsufficient Memory (00000008:kIOGPUCommandBufferCallbackErrorOutOfMemory)\n",
      "\t<AGXG14GFamilyCommandBuffer: 0x325195230>\n",
      "    label = <none> \n",
      "    device = <AGXG14GDevice: 0x126b93a00>\n",
      "        name = Apple M2 \n",
      "    commandQueue = <AGXG14GFamilyCommandQueue: 0x116981600>\n",
      "        label = <none> \n",
      "        device = <AGXG14GDevice: 0x126b93a00>\n",
      "            name = Apple M2 \n",
      "    retainedReferences = 1\n"
     ]
    },
    {
     "name": "stdout",
     "output_type": "stream",
     "text": [
      "42/73 [================>.............] - ETA: 3:44 - loss: 1.1082 - accuracy: 0.5000"
     ]
    },
    {
     "name": "stderr",
     "output_type": "stream",
     "text": [
      "Error: command buffer exited with error status.\n",
      "\tThe Metal Performance Shaders operations encoded on it may not have completed.\n",
      "\tError: \n",
      "\t(null)\n",
      "\tInsufficient Memory (00000008:kIOGPUCommandBufferCallbackErrorOutOfMemory)\n",
      "\t<AGXG14GFamilyCommandBuffer: 0x322469ff0>\n",
      "    label = <none> \n",
      "    device = <AGXG14GDevice: 0x126b93a00>\n",
      "        name = Apple M2 \n",
      "    commandQueue = <AGXG14GFamilyCommandQueue: 0x116981600>\n",
      "        label = <none> \n",
      "        device = <AGXG14GDevice: 0x126b93a00>\n",
      "            name = Apple M2 \n",
      "    retainedReferences = 1\n"
     ]
    },
    {
     "name": "stdout",
     "output_type": "stream",
     "text": [
      "60/73 [=======================>......] - ETA: 1:35 - loss: 1.1024 - accuracy: 0.4068"
     ]
    }
   ],
   "source": [
    "# Calculate class weights\n",
    "class_weights = compute_class_weight('balanced', classes=np.unique(y_t), y=y_t)\n",
    "\n",
    "# Define the RNN model\n",
    "embedding_dim = 500  # Adjust the dimension based on your data\n",
    "lstm_units = 64  # Adjust the number of LSTM units based on your data\n",
    "num_classes = len(np.unique(y_t))  # Calculate the number of classes\n",
    "batch_size = 64  # Adjust the batch size based on your data\n",
    "epochs = 20  # Adjust the number of epochs based on your data\n",
    "\n",
    "model = Sequential()\n",
    "model.add(Embedding(input_dim=X_t_vec_dense.shape[1], output_dim=embedding_dim, input_length=X_t_vec_dense.shape[1]))\n",
    "model.add(LSTM(units=lstm_units))\n",
    "model.add(Dense(units=num_classes, activation='softmax'))\n",
    "\n",
    "# Compile the model with appropriate loss function and class weights\n",
    "model.compile(loss='sparse_categorical_crossentropy', optimizer='adam', metrics=['accuracy'])\n",
    "\n",
    "unique_classes = np.unique(y_t)\n",
    "class_weights_dict = {}\n",
    "for class_index in unique_classes:\n",
    "    class_weights_dict[class_index] = class_weights[class_index]\n",
    "\n",
    "model.fit(X_t_vec_dense, y_t, batch_size=batch_size, epochs=epochs, validation_data=(X_val_vec_dense, y_val), class_weight=class_weights_dict)"
   ]
  },
  {
   "cell_type": "code",
   "execution_count": null,
   "id": "32c21df4-0e9c-4e6b-a184-22263fe4f024",
   "metadata": {},
   "outputs": [],
   "source": [
    "# # Calculate class weights\n",
    "# class_weights = compute_class_weight('balanced', classes=np.unique(y_t), y=y_t)\n",
    "\n",
    "# # Define the RNN model\n",
    "# embedding_dim = 100  \n",
    "# lstm_units = 64 \n",
    "# num_classes = len(np.unique(y_t))  \n",
    "# batch_size = 32  \n",
    "\n",
    "# model = Sequential()\n",
    "# model.add(Embedding(input_dim=X_t_vec_dense.shape[1], output_dim=embedding_dim, input_length=X_t_vec_dense.shape[1]))\n",
    "# model.add(LSTM(units=lstm_units))\n",
    "# model.add(Dense(units=num_classes, activation='softmax'))\n",
    "\n",
    "# # Compile the model with appropriate loss function and class weights\n",
    "# model.compile(loss='sparse_categorical_crossentropy', optimizer='adam', metrics=['accuracy'])\n",
    "\n",
    "# unique_classes = np.unique(y_t)\n",
    "# class_weights_dict = {}\n",
    "# for class_index in unique_classes:\n",
    "#     class_weights_dict[class_index] = class_weights[class_index]\n",
    "\n",
    "# model.fit(X_t_vec_dense, y_t, batch_size=batch_size, epochs=epochs, validation_data=(X_val_vec_dense, y_val), class_weight=class_weights_dict)\n"
   ]
  },
  {
   "cell_type": "code",
   "execution_count": null,
   "id": "8af559aa-777c-4378-958d-4f57aea71607",
   "metadata": {},
   "outputs": [],
   "source": [
    "# Define the model-building function\n",
    "def build_model(hp):\n",
    "    model = Sequential()\n",
    "    model.add(Embedding(input_dim=X_t_vec_dense.shape[1], output_dim=hp.Int('embedding_dim', min_value=50, max_value=300, step=50), input_length=X_t_vec_dense.shape[1]))\n",
    "    model.add(LSTM(units=hp.Int('lstm_units', min_value=64, max_value=256, step=64)))\n",
    "    model.add(Dense(units=num_classes, activation='softmax'))\n",
    "    model.compile(loss='sparse_categorical_crossentropy', optimizer='adam', metrics=['accuracy'])\n",
    "    return model\n",
    "\n",
    "# Define the tuner\n",
    "tuner = RandomSearch(\n",
    "    build_model,\n",
    "    objective='val_accuracy',\n",
    "    max_trials=5,  # Adjust the number of trials based on your computational resources\n",
    "    executions_per_trial=1,\n",
    "    directory='my_dir',\n",
    "    project_name='my_project'\n",
    ")\n",
    "\n",
    "# Perform the hyperparameter search\n",
    "tuner.search(X_t_vec_dense, y_t, validation_data=(X_val_vec_dense, y_val), epochs=10, batch_size=32)\n",
    "\n",
    "# Get the best hyperparameters\n",
    "best_hp = tuner.get_best_hyperparameters(num_trials=1)[0]\n",
    "best_model = tuner.hypermodel.build(best_hp)\n"
   ]
  },
  {
   "cell_type": "code",
   "execution_count": null,
   "id": "3425af5c-76b8-48ec-b3d2-19d6928fb983",
   "metadata": {},
   "outputs": [],
   "source": []
  },
  {
   "cell_type": "code",
   "execution_count": null,
   "id": "71bfd008-8835-4092-aebf-13c14c0f3b4c",
   "metadata": {},
   "outputs": [],
   "source": []
  },
  {
   "cell_type": "code",
   "execution_count": null,
   "id": "613f6132-6ef0-444d-b219-99feb10a7abb",
   "metadata": {},
   "outputs": [],
   "source": [
    "#How to pull a specific predictor out"
   ]
  },
  {
   "cell_type": "code",
   "execution_count": null,
   "id": "da76dcc8-b4a5-4899-8651-8f70420338b8",
   "metadata": {},
   "outputs": [],
   "source": [
    "# Our baseline model is not bad, performance at 0.689 with TFIDF"
   ]
  },
  {
   "cell_type": "code",
   "execution_count": null,
   "id": "829cb6d4-6d4a-4276-b9a5-28cfe7633ff6",
   "metadata": {},
   "outputs": [],
   "source": [
    "# Grid search and Modeling"
   ]
  },
  {
   "cell_type": "code",
   "execution_count": null,
   "id": "7b3a63d1-e049-4be4-a2ea-fdc6e14a9779",
   "metadata": {},
   "outputs": [],
   "source": [
    "# # Define the MNB pipeline\n",
    "# nbpipe = Pipeline([\n",
    "#     ('vect', TfidfVectorizer(ngram_range=(1, 2))),\n",
    "#     ('clf', MultinomialNB())\n",
    "# ])\n",
    "\n",
    "# # Fit the pipeline to the training data\n",
    "# nbpipe.fit(X_t, y_t)"
   ]
  },
  {
   "cell_type": "code",
   "execution_count": null,
   "id": "505c2ba5-b85d-4f9a-b091-577d010cdb09",
   "metadata": {},
   "outputs": [],
   "source": [
    "\n",
    "# # Specify hyperparameters and their distributions\n",
    "# parameters = {\n",
    "#     'vect__ngram_range': [(1,1), (1,2), (2,2)],\n",
    "#     'vect__max_df': [0.5, 0.75, 1.0],\n",
    "#     'vect__min_df': [0.01, 0.05, 0.1],\n",
    "#     'vect__max_features': [500, 1000, 20],\n",
    "#     'vect__stop_words': [None, 'english'],\n",
    "#     'vect__analyzer': ['word', 'char', 'char_wb'],\n",
    "#     'clf__alpha': [0.0, 0.5, 1.0, 2.0],\n",
    "#     'clf__fit_prior': [True, False]\n",
    "# }"
   ]
  },
  {
   "cell_type": "code",
   "execution_count": null,
   "id": "305d1e1b-9d89-4fb9-b5b8-2ecde3484592",
   "metadata": {},
   "outputs": [],
   "source": [
    "# Instantiate GridSearchCV object using the lrpipe pipeline\n",
    "# grid_search = GridSearchCV(nbpipe, parameters, n_jobs=-1, cv=5)\n",
    "\n",
    "# # Fit on data\n",
    "# grid_search.fit(X_t, y_t)"
   ]
  },
  {
   "cell_type": "code",
   "execution_count": null,
   "id": "7a2bda78-bf20-42f0-b560-0263e29a0d30",
   "metadata": {},
   "outputs": [],
   "source": [
    "# # Get the best parameters\n",
    "# best_params = grid_search.best_params_\n",
    "# best_params"
   ]
  },
  {
   "cell_type": "code",
   "execution_count": null,
   "id": "ad7dd749-8ec0-4a19-8e35-6b4019493f90",
   "metadata": {},
   "outputs": [],
   "source": [
    "# y_t_gr = grid_search.predict(X_t)\n",
    "# y_t_pred_gr= grid_search.predict(X_val)\n",
    "\n",
    "# print(\"Accuracy:\")\n",
    "# train_accuracy = accuracy_score(y_t, y_t_gr)\n",
    "# print(\"Train Accuracy:\", train_accuracy)\n",
    "\n",
    "# test_accuracy = accuracy_score(y_val, y_t_pred_gr)\n",
    "# print(\"Test Accuracy:\", test_accuracy)\n",
    "\n",
    "# print(\"\\nBalanced Accuracy:\")\n",
    "# train_accuracy = balanced_accuracy_score(y_t, y_t_gr)\n",
    "# print(\"Train Accuracy:\", train_accuracy)\n",
    "\n",
    "# test_accuracy = balanced_accuracy_score(y_val, y_t_pred_gr)\n",
    "# print(\"Test Accuracy:\", test_accuracy)"
   ]
  },
  {
   "cell_type": "code",
   "execution_count": null,
   "id": "8fd99ecd-2b3a-4d5d-9732-a094537ef541",
   "metadata": {},
   "outputs": [],
   "source": [
    "#RNN's"
   ]
  },
  {
   "cell_type": "code",
   "execution_count": null,
   "id": "0a4158d6-5d31-4735-b225-289e6435f392",
   "metadata": {},
   "outputs": [],
   "source": []
  }
 ],
 "metadata": {
  "kernelspec": {
   "display_name": "Python 3 (ipykernel)",
   "language": "python",
   "name": "python3"
  },
  "language_info": {
   "codemirror_mode": {
    "name": "ipython",
    "version": 3
   },
   "file_extension": ".py",
   "mimetype": "text/x-python",
   "name": "python",
   "nbconvert_exporter": "python",
   "pygments_lexer": "ipython3",
   "version": "3.9.16"
  }
 },
 "nbformat": 4,
 "nbformat_minor": 5
}
